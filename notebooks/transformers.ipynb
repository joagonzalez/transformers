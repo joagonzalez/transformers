{
 "cells": [
  {
   "cell_type": "code",
   "execution_count": 1,
   "id": "f65d9173-d323-4361-b566-1645efd09d0c",
   "metadata": {},
   "outputs": [
    {
     "name": "stdout",
     "output_type": "stream",
     "text": [
      "Defaulting to user installation because normal site-packages is not writeable\n",
      "Requirement already satisfied: transformers[sentencepiece] in /home/jgonzalez/.local/lib/python3.10/site-packages (4.26.1)\n",
      "Requirement already satisfied: torch in /home/jgonzalez/.local/lib/python3.10/site-packages (1.13.1)\n",
      "Requirement already satisfied: packaging>=20.0 in /usr/lib/python3/dist-packages (from transformers[sentencepiece]) (21.3)\n",
      "Requirement already satisfied: tqdm>=4.27 in /home/jgonzalez/.local/lib/python3.10/site-packages (from transformers[sentencepiece]) (4.64.1)\n",
      "Requirement already satisfied: numpy>=1.17 in /home/jgonzalez/.local/lib/python3.10/site-packages (from transformers[sentencepiece]) (1.24.2)\n",
      "Requirement already satisfied: requests in /home/jgonzalez/.local/lib/python3.10/site-packages (from transformers[sentencepiece]) (2.28.2)\n",
      "Requirement already satisfied: filelock in /home/jgonzalez/.local/lib/python3.10/site-packages (from transformers[sentencepiece]) (3.8.0)\n",
      "Requirement already satisfied: huggingface-hub<1.0,>=0.11.0 in /home/jgonzalez/.local/lib/python3.10/site-packages (from transformers[sentencepiece]) (0.12.0)\n",
      "Requirement already satisfied: pyyaml>=5.1 in /usr/lib/python3/dist-packages (from transformers[sentencepiece]) (5.4.1)\n",
      "Requirement already satisfied: regex!=2019.12.17 in /home/jgonzalez/.local/lib/python3.10/site-packages (from transformers[sentencepiece]) (2022.10.31)\n",
      "Requirement already satisfied: tokenizers!=0.11.3,<0.14,>=0.11.1 in /home/jgonzalez/.local/lib/python3.10/site-packages (from transformers[sentencepiece]) (0.13.2)\n",
      "Requirement already satisfied: protobuf<=3.20.2 in /home/jgonzalez/.local/lib/python3.10/site-packages (from transformers[sentencepiece]) (3.20.2)\n",
      "Requirement already satisfied: sentencepiece!=0.1.92,>=0.1.91 in /home/jgonzalez/.local/lib/python3.10/site-packages (from transformers[sentencepiece]) (0.1.97)\n",
      "Requirement already satisfied: nvidia-cuda-nvrtc-cu11==11.7.99 in /home/jgonzalez/.local/lib/python3.10/site-packages (from torch) (11.7.99)\n",
      "Requirement already satisfied: nvidia-cuda-runtime-cu11==11.7.99 in /home/jgonzalez/.local/lib/python3.10/site-packages (from torch) (11.7.99)\n",
      "Requirement already satisfied: typing-extensions in /home/jgonzalez/.local/lib/python3.10/site-packages (from torch) (4.4.0)\n",
      "Requirement already satisfied: nvidia-cublas-cu11==11.10.3.66 in /home/jgonzalez/.local/lib/python3.10/site-packages (from torch) (11.10.3.66)\n",
      "Requirement already satisfied: nvidia-cudnn-cu11==8.5.0.96 in /home/jgonzalez/.local/lib/python3.10/site-packages (from torch) (8.5.0.96)\n",
      "Requirement already satisfied: wheel in /usr/lib/python3/dist-packages (from nvidia-cublas-cu11==11.10.3.66->torch) (0.37.1)\n",
      "Requirement already satisfied: setuptools in /usr/lib/python3/dist-packages (from nvidia-cublas-cu11==11.10.3.66->torch) (59.6.0)\n",
      "Requirement already satisfied: charset-normalizer<4,>=2 in /home/jgonzalez/.local/lib/python3.10/site-packages (from requests->transformers[sentencepiece]) (3.0.1)\n",
      "Requirement already satisfied: certifi>=2017.4.17 in /usr/lib/python3/dist-packages (from requests->transformers[sentencepiece]) (2020.6.20)\n",
      "Requirement already satisfied: idna<4,>=2.5 in /usr/lib/python3/dist-packages (from requests->transformers[sentencepiece]) (3.3)\n",
      "Requirement already satisfied: urllib3<1.27,>=1.21.1 in /usr/lib/python3/dist-packages (from requests->transformers[sentencepiece]) (1.26.5)\n",
      "Note: you may need to restart the kernel to use updated packages.\n"
     ]
    }
   ],
   "source": [
    "pip install \"transformers[sentencepiece]\" torch"
   ]
  },
  {
   "cell_type": "code",
   "execution_count": null,
   "id": "c7ec747b-a11c-41c7-bdc1-5d414a02766c",
   "metadata": {},
   "outputs": [],
   "source": []
  },
  {
   "cell_type": "code",
   "execution_count": null,
   "id": "8d8d9491-de4d-471f-a3c4-2b8adda8f565",
   "metadata": {},
   "outputs": [],
   "source": [
    "# SENTIMENT ANALYSIS"
   ]
  },
  {
   "cell_type": "code",
   "execution_count": 2,
   "id": "beed6be1-c274-4cb3-9283-ff07fed271ae",
   "metadata": {
    "tags": []
   },
   "outputs": [
    {
     "name": "stderr",
     "output_type": "stream",
     "text": [
      "/home/jgonzalez/.local/lib/python3.10/site-packages/tqdm/auto.py:22: TqdmWarning: IProgress not found. Please update jupyter and ipywidgets. See https://ipywidgets.readthedocs.io/en/stable/user_install.html\n",
      "  from .autonotebook import tqdm as notebook_tqdm\n",
      "No model was supplied, defaulted to distilbert-base-uncased-finetuned-sst-2-english and revision af0f99b (https://huggingface.co/distilbert-base-uncased-finetuned-sst-2-english).\n",
      "Using a pipeline without specifying a model name and revision in production is not recommended.\n"
     ]
    },
    {
     "data": {
      "text/plain": [
       "[{'label': 'POSITIVE', 'score': 0.9998688697814941},\n",
       " {'label': 'NEGATIVE', 'score': 0.9336346387863159}]"
      ]
     },
     "execution_count": 2,
     "metadata": {},
     "output_type": "execute_result"
    }
   ],
   "source": [
    "from transformers import pipeline\n",
    "\n",
    "classifier = pipeline(\"sentiment-analysis\")\n",
    "classifier([\"this is so great!\", \"oh boy, why did you do something like that!\"])\n"
   ]
  },
  {
   "cell_type": "code",
   "execution_count": null,
   "id": "4c4799e1-f127-484d-9cf0-1f531cc0b9c8",
   "metadata": {},
   "outputs": [],
   "source": [
    "#  Zero-shot classification"
   ]
  },
  {
   "cell_type": "code",
   "execution_count": 1,
   "id": "2c69de84-15c1-486c-ba38-adb8f3cae85b",
   "metadata": {},
   "outputs": [
    {
     "name": "stderr",
     "output_type": "stream",
     "text": [
      "/home/jgonzalez/.local/lib/python3.10/site-packages/tqdm/auto.py:22: TqdmWarning: IProgress not found. Please update jupyter and ipywidgets. See https://ipywidgets.readthedocs.io/en/stable/user_install.html\n",
      "  from .autonotebook import tqdm as notebook_tqdm\n",
      "No model was supplied, defaulted to facebook/bart-large-mnli and revision c626438 (https://huggingface.co/facebook/bart-large-mnli).\n",
      "Using a pipeline without specifying a model name and revision in production is not recommended.\n",
      "Downloading (…)\"pytorch_model.bin\";: 100%|█████████████████████████████████████████████████████████████████████████████████████████████████████████████| 1.63G/1.63G [24:41<00:00, 1.10MB/s]\n",
      "Downloading (…)okenizer_config.json: 100%|███████████████████████████████████████████████████████████████████████████████████████████████████████████████| 26.0/26.0 [00:00<00:00, 28.0kB/s]\n",
      "Downloading (…)olve/main/vocab.json: 100%|████████████████████████████████████████████████████████████████████████████████████████████████████████████████| 899k/899k [00:01<00:00, 887kB/s]\n",
      "Downloading (…)olve/main/merges.txt: 100%|████████████████████████████████████████████████████████████████████████████████████████████████████████████████| 456k/456k [00:00<00:00, 521kB/s]\n",
      "Downloading (…)/main/tokenizer.json: 100%|██████████████████████████████████████████████████████████████████████████████████████████████████████████████| 1.36M/1.36M [00:01<00:00, 837kB/s]\n"
     ]
    },
    {
     "data": {
      "text/plain": [
       "{'sequence': 'This is a course about the Transformers library',\n",
       " 'labels': ['education', 'business', 'politics'],\n",
       " 'scores': [0.8445994853973389, 0.11197376996278763, 0.043426763266325]}"
      ]
     },
     "execution_count": 1,
     "metadata": {},
     "output_type": "execute_result"
    }
   ],
   "source": [
    "from transformers import pipeline\n",
    "\n",
    "classifier = pipeline(\"zero-shot-classification\")\n",
    "classifier(\n",
    "    \"This is a course about the Transformers library\",\n",
    "    candidate_labels=[\"education\", \"politics\", \"business\"],\n",
    ")"
   ]
  },
  {
   "cell_type": "code",
   "execution_count": null,
   "id": "eefa7520-ed4b-4ea0-87d6-c45468f4c6df",
   "metadata": {},
   "outputs": [],
   "source": [
    "# TEXT GENERATION"
   ]
  },
  {
   "cell_type": "code",
   "execution_count": null,
   "id": "5a60dba3-17a4-4ee0-9e79-520fc79dc4f7",
   "metadata": {},
   "outputs": [],
   "source": [
    "from transformers import pipeline\n",
    "\n",
    "generator = pipeline(\"text-generation\")\n",
    "generator(\"In this course, we will teach you how to\")"
   ]
  },
  {
   "cell_type": "code",
   "execution_count": null,
   "id": "55460825-d6b2-45b5-817d-50746486fb4b",
   "metadata": {},
   "outputs": [
    {
     "name": "stderr",
     "output_type": "stream",
     "text": [
      "No model was supplied, defaulted to dbmdz/bert-large-cased-finetuned-conll03-english and revision f2482bf (https://huggingface.co/dbmdz/bert-large-cased-finetuned-conll03-english).\n",
      "Using a pipeline without specifying a model name and revision in production is not recommended.\n",
      "Downloading (…)lve/main/config.json: 100%|██████████████████████████████████████████████████████████████████████████████████████████████████████████████████| 998/998 [00:00<00:00, 442kB/s]\n",
      "Downloading (…)\"pytorch_model.bin\";:   7%|███████▋                                                                                                     | 94.4M/1.33G [00:34<10:25, 1.98MB/s]"
     ]
    }
   ],
   "source": [
    "from transformers import pipeline\n",
    "\n",
    "ner = pipeline(\"ner\", grouped_entities=True)\n",
    "ner(\"My name is Sylvain and I work at Hugging Face in Brooklyn.\")"
   ]
  },
  {
   "cell_type": "code",
   "execution_count": null,
   "id": "015c65d5-0f30-46b1-862b-d4a624122165",
   "metadata": {},
   "outputs": [],
   "source": []
  }
 ],
 "metadata": {
  "kernelspec": {
   "display_name": "Python 3 (ipykernel)",
   "language": "python",
   "name": "python3"
  },
  "language_info": {
   "codemirror_mode": {
    "name": "ipython",
    "version": 3
   },
   "file_extension": ".py",
   "mimetype": "text/x-python",
   "name": "python",
   "nbconvert_exporter": "python",
   "pygments_lexer": "ipython3",
   "version": "3.10.6"
  }
 },
 "nbformat": 4,
 "nbformat_minor": 5
}
